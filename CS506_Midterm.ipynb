{
  "cells": [
    {
      "cell_type": "markdown",
      "metadata": {
        "id": "VFiAh-TeRfDz"
      },
      "source": [
        "# Libraries"
      ]
    },
    {
      "cell_type": "code",
      "source": [
        "!pip install mord\n",
        "!pip install gensim\n",
        "!pip install vaderSentiment"
      ],
      "metadata": {
        "colab": {
          "base_uri": "https://localhost:8080/"
        },
        "id": "St0gY3ISimDH",
        "outputId": "87720849-d201-405e-8c2c-63b7d6d68647"
      },
      "execution_count": 1,
      "outputs": [
        {
          "output_type": "stream",
          "name": "stdout",
          "text": [
            "Collecting mord\n",
            "  Downloading mord-0.7.tar.gz (8.6 kB)\n",
            "  Preparing metadata (setup.py) ... \u001b[?25l\u001b[?25hdone\n",
            "Building wheels for collected packages: mord\n",
            "  Building wheel for mord (setup.py) ... \u001b[?25l\u001b[?25hdone\n",
            "  Created wheel for mord: filename=mord-0.7-py3-none-any.whl size=9886 sha256=f1f64f09dbf97bcf539c642d62953ec54781055814fa39209612be172da93a24\n",
            "  Stored in directory: /root/.cache/pip/wheels/77/00/19/3cea86fbfc737ec4acb515cd94497dcc33f943fa157548b96c\n",
            "Successfully built mord\n",
            "Installing collected packages: mord\n",
            "Successfully installed mord-0.7\n",
            "Requirement already satisfied: gensim in /usr/local/lib/python3.10/dist-packages (4.3.3)\n",
            "Requirement already satisfied: numpy<2.0,>=1.18.5 in /usr/local/lib/python3.10/dist-packages (from gensim) (1.26.4)\n",
            "Requirement already satisfied: scipy<1.14.0,>=1.7.0 in /usr/local/lib/python3.10/dist-packages (from gensim) (1.13.1)\n",
            "Requirement already satisfied: smart-open>=1.8.1 in /usr/local/lib/python3.10/dist-packages (from gensim) (7.0.5)\n",
            "Requirement already satisfied: wrapt in /usr/local/lib/python3.10/dist-packages (from smart-open>=1.8.1->gensim) (1.16.0)\n",
            "Collecting vaderSentiment\n",
            "  Downloading vaderSentiment-3.3.2-py2.py3-none-any.whl.metadata (572 bytes)\n",
            "Requirement already satisfied: requests in /usr/local/lib/python3.10/dist-packages (from vaderSentiment) (2.32.3)\n",
            "Requirement already satisfied: charset-normalizer<4,>=2 in /usr/local/lib/python3.10/dist-packages (from requests->vaderSentiment) (3.4.0)\n",
            "Requirement already satisfied: idna<4,>=2.5 in /usr/local/lib/python3.10/dist-packages (from requests->vaderSentiment) (3.10)\n",
            "Requirement already satisfied: urllib3<3,>=1.21.1 in /usr/local/lib/python3.10/dist-packages (from requests->vaderSentiment) (2.2.3)\n",
            "Requirement already satisfied: certifi>=2017.4.17 in /usr/local/lib/python3.10/dist-packages (from requests->vaderSentiment) (2024.8.30)\n",
            "Downloading vaderSentiment-3.3.2-py2.py3-none-any.whl (125 kB)\n",
            "\u001b[2K   \u001b[90m━━━━━━━━━━━━━━━━━━━━━━━━━━━━━━━━━━━━━━━━\u001b[0m \u001b[32m126.0/126.0 kB\u001b[0m \u001b[31m5.0 MB/s\u001b[0m eta \u001b[36m0:00:00\u001b[0m\n",
            "\u001b[?25hInstalling collected packages: vaderSentiment\n",
            "Successfully installed vaderSentiment-3.3.2\n"
          ]
        }
      ]
    },
    {
      "cell_type": "code",
      "execution_count": 2,
      "metadata": {
        "id": "W0hKG67RRfD2"
      },
      "outputs": [],
      "source": [
        "import pickle\n",
        "import pandas as pd\n",
        "import seaborn as sns\n",
        "import numpy as np\n",
        "import os\n",
        "from os.path import exists\n",
        "import matplotlib.pyplot as plt\n",
        "from textblob import TextBlob\n",
        "from nltk.corpus import stopwords\n",
        "from datetime import datetime\n",
        "import statsmodels.api as sm\n",
        "from mord import LogisticAT\n",
        "from vaderSentiment.vaderSentiment import SentimentIntensityAnalyzer\n",
        "from gensim.models import LdaModel\n",
        "from gensim import corpora\n",
        "from sklearn.neighbors import KNeighborsClassifier\n",
        "from sklearn.model_selection import train_test_split, cross_val_score, StratifiedKFold, GridSearchCV\n",
        "from sklearn.metrics import accuracy_score, confusion_matrix\n",
        "from sklearn.metrics import mean_squared_error, mean_absolute_error\n",
        "from sklearn.preprocessing import StandardScaler\n",
        "from sklearn.feature_extraction.text import TfidfVectorizer, CountVectorizer\n",
        "from sklearn.linear_model import LinearRegression, LogisticRegression, SGDClassifier\n",
        "from sklearn.ensemble import RandomForestClassifier, StackingClassifier\n",
        "from sklearn.compose import ColumnTransformer\n",
        "from sklearn.pipeline import Pipeline\n",
        "from sklearn.decomposition import TruncatedSVD\n",
        "from sklearn.impute import SimpleImputer"
      ]
    },
    {
      "cell_type": "code",
      "source": [
        "from google.colab import drive\n",
        "drive.mount('/content/drive')\n",
        "os.chdir('/content/drive/MyDrive/data')"
      ],
      "metadata": {
        "colab": {
          "base_uri": "https://localhost:8080/"
        },
        "id": "_bhW8zGcSGa9",
        "outputId": "9df8cff1-4e69-455d-b820-e37c9b4dc2a7"
      },
      "execution_count": 3,
      "outputs": [
        {
          "output_type": "stream",
          "name": "stdout",
          "text": [
            "Mounted at /content/drive\n"
          ]
        }
      ]
    },
    {
      "cell_type": "markdown",
      "metadata": {
        "id": "hpbrNfs6RfD4"
      },
      "source": [
        "# Loading the Files\n",
        "\n",
        "Download the csv files into the `data/` directory."
      ]
    },
    {
      "cell_type": "code",
      "execution_count": 4,
      "metadata": {
        "colab": {
          "base_uri": "https://localhost:8080/",
          "height": 1000
        },
        "id": "6gOUsLd0RfD4",
        "outputId": "362c08a5-06d4-4ebf-b8e0-1e408cc4fc78"
      },
      "outputs": [
        {
          "output_type": "stream",
          "name": "stdout",
          "text": [
            "train.csv shape is  (1697533, 9)\n",
            "test.csv shape is  (212192, 2)\n",
            "\n",
            "        Id   ProductId          UserId  HelpfulnessNumerator  \\\n",
            "0   914403  B0009W5KHM   AV6QDP8Q0ONK4                     2   \n",
            "1   354887  6303079709  A2I8RXJN80A2D2                     0   \n",
            "2  1407653  B004H0M2XC  A3FHV3RV8Z12E6                     0   \n",
            "3  1377458  B003ZJ9536  A12VLTA3ZHVPUY                     1   \n",
            "4   475323  630574453X  A13NM1PES9OXVN                     2   \n",
            "\n",
            "   HelpfulnessDenominator        Time  \\\n",
            "0                       2  1341014400   \n",
            "1                       0  1168819200   \n",
            "2                       0  1386201600   \n",
            "3                       1  1348704000   \n",
            "4                       3   970012800   \n",
            "\n",
            "                                         Summary  \\\n",
            "0                                  GOOD FUN FILM   \n",
            "1                                   Movie Review   \n",
            "2             When is it a good time to Consent?   \n",
            "3                                          TRUTH   \n",
            "4  Intelligent and bittersweet -- stays with you   \n",
            "\n",
            "                                                Text  Score  \n",
            "0  While most straight to DVD films are not worth...    5.0  \n",
            "1  I have wanted this one for sometime, also.  I ...    5.0  \n",
            "2  Actually this was a pretty darn good indie fil...    4.0  \n",
            "3  Episodes 37 to 72 of the series press on in a ...    5.0  \n",
            "4  I was really impressed with this movie, but wa...    3.0  \n",
            "\n",
            "        Id  Score\n",
            "0  1323432    NaN\n",
            "1  1137299    NaN\n",
            "2  1459366    NaN\n",
            "3   931601    NaN\n",
            "4  1311995    NaN\n",
            "\n",
            "                 Id  HelpfulnessNumerator  HelpfulnessDenominator  \\\n",
            "count  1.697533e+06          1.697533e+06            1.697533e+06   \n",
            "mean   8.487660e+05          3.569048e+00            5.301422e+00   \n",
            "std    4.900357e+05          1.727883e+01            2.024445e+01   \n",
            "min    0.000000e+00          0.000000e+00            0.000000e+00   \n",
            "25%    4.243830e+05          0.000000e+00            0.000000e+00   \n",
            "50%    8.487660e+05          1.000000e+00            1.000000e+00   \n",
            "75%    1.273149e+06          3.000000e+00            5.000000e+00   \n",
            "max    1.697532e+06          6.084000e+03            6.510000e+03   \n",
            "\n",
            "               Time         Score  \n",
            "count  1.697533e+06  1.485341e+06  \n",
            "mean   1.262422e+09  4.110517e+00  \n",
            "std    1.289277e+08  1.197651e+00  \n",
            "min    8.793792e+08  1.000000e+00  \n",
            "25%    1.164413e+09  4.000000e+00  \n",
            "50%    1.307491e+09  5.000000e+00  \n",
            "75%    1.373242e+09  5.000000e+00  \n",
            "max    1.406074e+09  5.000000e+00  \n"
          ]
        },
        {
          "output_type": "display_data",
          "data": {
            "text/plain": [
              "<Figure size 640x480 with 1 Axes>"
            ],
            "image/png": "[encoded data removed]"
          },
          "metadata": {}
        },
        {
          "output_type": "stream",
          "name": "stdout",
          "text": [
            "\n",
            "EVERYTHING IS PROPERLY SET UP! YOU ARE READY TO START\n"
          ]
        }
      ],
      "source": [
        "trainingSet = pd.read_csv(\"train.csv\")\n",
        "testingSet = pd.read_csv(\"test.csv\")\n",
        "\n",
        "print(\"train.csv shape is \", trainingSet.shape)\n",
        "print(\"test.csv shape is \", testingSet.shape)\n",
        "\n",
        "print()\n",
        "\n",
        "print(trainingSet.head())\n",
        "print()\n",
        "print(testingSet.head())\n",
        "\n",
        "print()\n",
        "\n",
        "print(trainingSet.describe())\n",
        "\n",
        "trainingSet['Score'].value_counts().plot(kind='bar', legend=True, alpha=.5)\n",
        "plt.show()\n",
        "\n",
        "print()\n",
        "print(\"EVERYTHING IS PROPERLY SET UP! YOU ARE READY TO START\")"
      ]
    },
    {
      "cell_type": "markdown",
      "metadata": {
        "id": "4rPajnvcRfD5"
      },
      "source": [
        "# Adding Features"
      ]
    },
    {
      "cell_type": "code",
      "execution_count": 5,
      "metadata": {
        "id": "4nevrdWFRfD6"
      },
      "outputs": [],
      "source": [
        "def add_features_to(df):\n",
        "    df['Helpfulness'] = df['HelpfulnessNumerator'] / df['HelpfulnessDenominator']\n",
        "    df['Helpfulness'] = df['Helpfulness'].fillna(0)\n",
        "    df['High_Helpfulness_Flag'] = (df['Helpfulness'] > 0.5).astype(int)\n",
        "    df['Helpfulness_Bucket'] = np.where(df['Helpfulness'] == 0, 'none',\n",
        "                                        np.where(df['Helpfulness'] > 0.7, 'high', 'medium'))\n",
        "    df['Review_Age'] = df['Time'].apply(lambda x: (datetime.now() - datetime.fromtimestamp(x)).days if pd.notnull(x) else 0)\n",
        "    df['Text_Length'] = df['Text'].apply(lambda x: len(x.split()) if isinstance(x, str) else 0)\n",
        "    df['Sentiment_Polarity'] = df['Text'].apply(lambda x: TextBlob(x).sentiment.polarity if isinstance(x, str) else 0)\n",
        "    user_review_counts = df['UserId'].value_counts()\n",
        "    df['User_Review_Count'] = df['UserId'].map(user_review_counts)\n",
        "    df['Sentiment_Helpfulness'] = df['Sentiment_Polarity'] * df['Helpfulness']\n",
        "    df['Review_Age_Helpfulness'] = df['Review_Age'] * df['Helpfulness']\n",
        "\n",
        "    # TF-IDF features with dimensionality reduction using TruncatedSVD\n",
        "    tfidf_vectorizer = TfidfVectorizer(max_features=200, stop_words='english')\n",
        "    tfidf_matrix = tfidf_vectorizer.fit_transform(df['Text'].fillna(''))\n",
        "    svd = TruncatedSVD(n_components=50, random_state=42)\n",
        "    tfidf_reduced = svd.fit_transform(tfidf_matrix)\n",
        "    tfidf_features = pd.DataFrame(tfidf_reduced, columns=[f'svd_{i}' for i in range(tfidf_reduced.shape[1])])\n",
        "    df = pd.concat([df.reset_index(drop=True), tfidf_features], axis=1)\n",
        "\n",
        "    return df\n",
        "\n",
        "#load data or process features if they don't already exist\n",
        "if os.path.exists('X_train.csv'):\n",
        "    X_train = pd.read_csv(\"X_train.csv\")\n",
        "if os.path.exists('X_submission.csv'):\n",
        "    X_submission = pd.read_csv(\"X_submission.csv\")\n",
        "else:\n",
        "  #otherwise create those X_train and X_submission variables and files\n",
        "    train = add_features_to(trainingSet)\n",
        "    X_submission = pd.merge(train, testingSet, left_on='Id', right_on='Id')\n",
        "    X_submission = X_submission.drop(columns=['Score_x']).rename(columns={'Score_y': 'Score'})\n",
        "    X_train = train[train['Score'].notnull()]\n",
        "    X_submission.to_csv(\"X_submission.csv\", index=False)\n",
        "    X_train.to_csv(\"X_train.csv\", index=False)"
      ]
    },
    {
      "cell_type": "markdown",
      "metadata": {
        "id": "hFF-TsvKRfD6"
      },
      "source": [
        "# Sample + Split into training and testing set"
      ]
    },
    {
      "cell_type": "code",
      "execution_count": 6,
      "metadata": {
        "id": "sbQNAKQiRfD6"
      },
      "outputs": [],
      "source": [
        "X = X_train.drop(columns=['Score']) #X contains all the features from X_train except the target variable score\n",
        "y = X_train['Score'] #y represents the target variable, which will be used as the ground truth or labels for training and testing the model so it has the scores\n",
        "\n",
        "#train-test split with stratification by score\n",
        "X_train_split, X_test_split, y_train_split, y_test_split = train_test_split(\n",
        "    X, y,                 # split X and y into the training and testing\n",
        "    test_size=0.25,       # 25% of the data goes into the test set\n",
        "    random_state=42,      # for reproducibility\n",
        "    stratify=y            # ensures equal distribution of star ratings\n",
        ")"
      ]
    },
    {
      "cell_type": "markdown",
      "metadata": {
        "id": "AALNpw13RfD6"
      },
      "source": [
        "# Feature Selection"
      ]
    },
    {
      "cell_type": "markdown",
      "metadata": {
        "id": "Kbo2-kvaRfD7"
      },
      "source": [
        "# Model Creation & Evaluation\n"
      ]
    },
    {
      "cell_type": "code",
      "source": [
        "#adjust the X_train and X_test by including only numerical columns\n",
        "#as it'll cause the model to not perform well for generalizing\n",
        "X_train_split_numeric = X_train_split.select_dtypes(include=[np.number])\n",
        "X_test_split_numeric = X_test_split.select_dtypes(include=[np.number])\n",
        "\n",
        "scaler = StandardScaler() #will standardize features by removing the mean and scaling to unit variance\n",
        "X_train_scaled = scaler.fit_transform(X_train_split_numeric)  #scales the data by centering and normalizing each feature to have a mean of 0 and a standard deviation of 1\n",
        "X_test_scaled = scaler.transform(X_test_split_numeric) #same scaling transformation as above\n",
        "\n",
        "#convert the target variables into integer type\n",
        "y_train_split = y_train_split.astype(int)\n",
        "y_test_split = y_test_split.astype(int)"
      ],
      "metadata": {
        "id": "LOqlxn2r4dLi"
      },
      "execution_count": 7,
      "outputs": []
    },
    {
      "cell_type": "code",
      "source": [
        "# Random Forest\n",
        "rf_best = RandomForestClassifier(\n",
        "    n_estimators=200, #provides a robust forest that can capture complex patterns in the data. less than this and it didnt do as well, and more and the tradeoff of time running wasnt worth it\n",
        "    max_depth=20, #deep enough to capture important feature interactions while not being so deep as to cause overfitting.\n",
        "    min_samples_split=2, #determines the minimum number of samples required to split an internal node. allows each node to split as long as there are at least two samples\n",
        "    random_state=42, #fixed seed for reproducibility\n",
        "    class_weight='balanced' #balanced class weights due to under- and over-representation in the dataset\n",
        ")\n",
        "rf_best.fit(X_train_scaled, y_train_split)\n",
        "print(\"Random Forest Model Trained.\")\n",
        "\n",
        "rf_preds = rf_best.predict(X_test_scaled)\n",
        "rf_accuracy = accuracy_score(y_test_split, rf_preds)\n",
        "print(\"Random Forest Classifier Accuracy:\", rf_accuracy)"
      ],
      "metadata": {
        "colab": {
          "base_uri": "https://localhost:8080/"
        },
        "id": "skzH4rOtwY4r",
        "outputId": "9729366a-0631-4adb-e081-387bdc55fcec"
      },
      "execution_count": 10,
      "outputs": [
        {
          "output_type": "stream",
          "name": "stdout",
          "text": [
            "Random Forest Model Trained.\n",
            "Random Forest Classifier Accuracy: 0.5641736863649094\n"
          ]
        }
      ]
    },
    {
      "cell_type": "code",
      "source": [
        "# SGD Classifier\n",
        "sgd_best = SGDClassifier(\n",
        "    loss='log_loss', #allows the SGD Classifier to output probabilities, enabling its use in soft-voting ensembles where probabilistic outputs are combined\n",
        "    alpha=1e-3, #regularization strength at a moderate level to prevent overfitting\n",
        "    penalty='l1', #controls the type of regularization, l1 encourages sparsity by driving less important feature weights to zero\n",
        "    max_iter=1000, #provides ample iterations for convergence\n",
        "    random_state=42, #random seed for reproducibility\n",
        "    class_weight='balanced'  #balanced class weights due to under- and over-representation in the dataset\n",
        ")\n",
        "sgd_best.fit(X_train_scaled, y_train_split)\n",
        "print(\"SGD Classifier Model Trained.\")\n",
        "\n",
        "sgd_preds = sgd_best.predict(X_test_scaled)\n",
        "sgd_accuracy = accuracy_score(y_test_split, sgd_preds)\n",
        "print(\"SGD Classifier Accuracy:\", sgd_accuracy)"
      ],
      "metadata": {
        "colab": {
          "base_uri": "https://localhost:8080/"
        },
        "id": "N6ibVh6vwe-9",
        "outputId": "0e584677-ec2a-414e-aae5-2a79edf84550"
      },
      "execution_count": 8,
      "outputs": [
        {
          "output_type": "stream",
          "name": "stdout",
          "text": [
            "SGD Classifier Model Trained.\n",
            "SGD Classifier Accuracy: 0.559180903548269\n"
          ]
        }
      ]
    },
    {
      "cell_type": "code",
      "source": [
        "# Ordinal Logistic Regression\n",
        "ord_log_reg = LogisticAT()\n",
        "ord_log_reg.fit(X_train_scaled, y_train_split)\n",
        "\n",
        "ord_log_preds = np.argmax(ord_log_reg.predict_proba(X_test_scaled), axis=1) + 1  #convert to class labels (1-5)\n",
        "ord_log_accuracy = accuracy_score(y_test_split, ord_log_preds)\n",
        "print(\"Ordinal Logistic Regression Accuracy:\", ord_log_accuracy)"
      ],
      "metadata": {
        "colab": {
          "base_uri": "https://localhost:8080/"
        },
        "id": "1z55NS7mb5yu",
        "outputId": "8f191850-bcf1-45d3-c068-3a2ed59d75c6"
      },
      "execution_count": 9,
      "outputs": [
        {
          "output_type": "stream",
          "name": "stdout",
          "text": [
            "Ordinal Logistic Regression Accuracy: 0.5619142770967533\n"
          ]
        }
      ]
    },
    {
      "cell_type": "code",
      "source": [
        "# Ensemble Model\n",
        "#predict on the x test\n",
        "rf_probs = rf_best.predict_proba(X_test_scaled)\n",
        "sgd_probs = sgd_best.predict_proba(X_test_scaled)\n",
        "ord_log_probs = ord_log_reg.predict_proba(X_test_scaled)\n",
        "\n",
        "#soft voting\n",
        "ensemble_probs = (ord_log_probs * 0.3 + sgd_probs * 0.2 + rf_probs * 0.4)\n",
        "ensemble_predictions = np.argmax(ensemble_probs, axis=1) + 1 #convert to class labels (1-5)\n",
        "ensemble_accuracy = accuracy_score(y_test_split, ensemble_predictions)\n",
        "print(\"Ensemble Model Accuracy on testing set =\", ensemble_accuracy)\n",
        "\n",
        "# Confusion Matrix\n",
        "cm = confusion_matrix(y_test_split, ensemble_predictions, normalize='true')\n",
        "sns.heatmap(cm, annot=True, cmap='Blues', fmt=\".2f\")\n",
        "plt.title('Confusion Matrix of the Tuned Ensemble Classifier')\n",
        "plt.xlabel('Predicted')\n",
        "plt.ylabel('True')\n",
        "plt.show()"
      ],
      "metadata": {
        "colab": {
          "base_uri": "https://localhost:8080/",
          "height": 489
        },
        "id": "NHwfz175Rf_f",
        "outputId": "d50ef822-a26c-4a5d-b11c-1678fa39dfeb"
      },
      "execution_count": 11,
      "outputs": [
        {
          "output_type": "stream",
          "name": "stdout",
          "text": [
            "Ensemble Model Accuracy on testing set = 0.5876968567550682\n"
          ]
        },
        {
          "output_type": "display_data",
          "data": {
            "text/plain": [
              "<Figure size 640x480 with 2 Axes>"
            ],
            "image/png": "[encoded data removed]"
          },
          "metadata": {}
        }
      ]
    },
    {
      "cell_type": "markdown",
      "metadata": {
        "id": "4wN23NxJRfD8"
      },
      "source": [
        "# Create submission file"
      ]
    },
    {
      "cell_type": "code",
      "source": [
        "#preprocessing submission data to make it numeric and drop the score column\n",
        "X_submission_numeric = X_submission.select_dtypes(include=[np.number]).drop(columns=['Score'])\n",
        "X_submission_scaled = scaler.transform(X_submission_numeric)  #fitted scaler"
      ],
      "metadata": {
        "id": "dbfZRWieg2cv"
      },
      "execution_count": 12,
      "outputs": []
    },
    {
      "cell_type": "code",
      "execution_count": 13,
      "metadata": {
        "colab": {
          "base_uri": "https://localhost:8080/"
        },
        "id": "uc6lFsHSRfD8",
        "outputId": "ff8b14ec-2558-4970-d8bb-6dc8bbb6fd48"
      },
      "outputs": [
        {
          "output_type": "stream",
          "name": "stdout",
          "text": [
            "Submission file created successfully.\n"
          ]
        }
      ],
      "source": [
        "#get individual probabilities\n",
        "ord_log_submission_probs = ord_log_reg.predict_proba(X_submission_scaled)\n",
        "sgd_submission_probs = sgd_best.predict_proba(X_submission_scaled)\n",
        "rf_submission_probs = rf_best.predict_proba(X_submission_scaled)\n",
        "\n",
        "#then get the ensemble probability\n",
        "submission_ensemble_probs = (\n",
        "    ord_log_submission_probs * 0.3 +\n",
        "    sgd_submission_probs * 0.2 +\n",
        "    rf_submission_probs * 0.5\n",
        ")\n",
        "\n",
        "#get final predictions for submission with the ensemble\n",
        "submission_predictions = np.argmax(submission_ensemble_probs, axis=1) + 1  #convert to class labels (1-5)\n",
        "\n",
        "#create the submission file\n",
        "submission = pd.DataFrame({\n",
        "    'Id': X_submission['Id'],\n",
        "    'Predicted_Score': submission_predictions\n",
        "})\n",
        "submission.to_csv(\"submission.csv\", index=False)\n",
        "\n",
        "print(\"Submission file created successfully.\")"
      ]
    }
  ],
  "metadata": {
    "kernelspec": {
      "display_name": "Python 3",
      "name": "python3"
    },
    "language_info": {
      "codemirror_mode": {
        "name": "ipython",
        "version": 3
      },
      "file_extension": ".py",
      "mimetype": "text/x-python",
      "name": "python",
      "nbconvert_exporter": "python",
      "pygments_lexer": "ipython3",
      "version": "3.12.3"
    },
    "colab": {
      "provenance": [],
      "machine_shape": "hm"
    }
  },
  "nbformat": 4,
  "nbformat_minor": 0
}